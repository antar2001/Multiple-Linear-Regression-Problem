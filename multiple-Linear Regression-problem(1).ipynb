{
 "cells": [
  {
   "cell_type": "code",
   "execution_count": 1,
   "id": "691a73ef",
   "metadata": {
    "_cell_guid": "b1076dfc-b9ad-4769-8c92-a6c4dae69d19",
    "_uuid": "8f2839f25d086af736a60e9eeb907d3b93b6e0e5",
    "execution": {
     "iopub.execute_input": "2024-08-22T19:55:51.162709Z",
     "iopub.status.busy": "2024-08-22T19:55:51.162132Z",
     "iopub.status.idle": "2024-08-22T19:55:51.640612Z",
     "shell.execute_reply": "2024-08-22T19:55:51.639337Z"
    },
    "papermill": {
     "duration": 0.493346,
     "end_time": "2024-08-22T19:55:51.643297",
     "exception": false,
     "start_time": "2024-08-22T19:55:51.149951",
     "status": "completed"
    },
    "tags": []
   },
   "outputs": [
    {
     "name": "stdout",
     "output_type": "stream",
     "text": [
      "/kaggle/input/k88-mjh/Book123.csv\n",
      "/kaggle/input/ryhygtn/Book1.csv\n"
     ]
    }
   ],
   "source": [
    "# This Python 3 environment comes with many helpful analytics libraries installed\n",
    "# It is defined by the kaggle/python Docker image: https://github.com/kaggle/docker-python\n",
    "# For example, here's several helpful packages to load\n",
    "\n",
    "import numpy as np # linear algebra\n",
    "import pandas as pd # data processing, CSV file I/O (e.g. pd.read_csv)\n",
    "\n",
    "# Input data files are available in the read-only \"../input/\" directory\n",
    "# For example, running this (by clicking run or pressing Shift+Enter) will list all files under the input directory\n",
    "\n",
    "import os\n",
    "for dirname, _, filenames in os.walk('/kaggle/input'):\n",
    "    for filename in filenames:\n",
    "        print(os.path.join(dirname, filename))\n",
    "\n",
    "# You can write up to 20GB to the current directory (/kaggle/working/) that gets preserved as output when you create a version using \"Save & Run All\" \n",
    "# You can also write temporary files to /kaggle/temp/, but they won't be saved outside of the current session"
   ]
  },
  {
   "cell_type": "code",
   "execution_count": 2,
   "id": "6f72e0ec",
   "metadata": {
    "execution": {
     "iopub.execute_input": "2024-08-22T19:55:51.663929Z",
     "iopub.status.busy": "2024-08-22T19:55:51.663351Z",
     "iopub.status.idle": "2024-08-22T19:55:53.315282Z",
     "shell.execute_reply": "2024-08-22T19:55:53.313993Z"
    },
    "papermill": {
     "duration": 1.665411,
     "end_time": "2024-08-22T19:55:53.318266",
     "exception": false,
     "start_time": "2024-08-22T19:55:51.652855",
     "status": "completed"
    },
    "tags": []
   },
   "outputs": [],
   "source": [
    "from sklearn import linear_model"
   ]
  },
  {
   "cell_type": "code",
   "execution_count": 3,
   "id": "efe03a37",
   "metadata": {
    "execution": {
     "iopub.execute_input": "2024-08-22T19:55:53.338967Z",
     "iopub.status.busy": "2024-08-22T19:55:53.338343Z",
     "iopub.status.idle": "2024-08-22T19:55:53.464351Z",
     "shell.execute_reply": "2024-08-22T19:55:53.463006Z"
    },
    "papermill": {
     "duration": 0.139541,
     "end_time": "2024-08-22T19:55:53.467178",
     "exception": false,
     "start_time": "2024-08-22T19:55:53.327637",
     "status": "completed"
    },
    "tags": []
   },
   "outputs": [
    {
     "data": {
      "text/html": [
       "<div>\n",
       "<style scoped>\n",
       "    .dataframe tbody tr th:only-of-type {\n",
       "        vertical-align: middle;\n",
       "    }\n",
       "\n",
       "    .dataframe tbody tr th {\n",
       "        vertical-align: top;\n",
       "    }\n",
       "\n",
       "    .dataframe thead th {\n",
       "        text-align: right;\n",
       "    }\n",
       "</style>\n",
       "<table border=\"1\" class=\"dataframe\">\n",
       "  <thead>\n",
       "    <tr style=\"text-align: right;\">\n",
       "      <th></th>\n",
       "      <th>speed</th>\n",
       "      <th>car_age</th>\n",
       "      <th>experience</th>\n",
       "      <th>risk</th>\n",
       "    </tr>\n",
       "  </thead>\n",
       "  <tbody>\n",
       "    <tr>\n",
       "      <th>0</th>\n",
       "      <td>200</td>\n",
       "      <td>15</td>\n",
       "      <td>5.0</td>\n",
       "      <td>85</td>\n",
       "    </tr>\n",
       "    <tr>\n",
       "      <th>1</th>\n",
       "      <td>90</td>\n",
       "      <td>17</td>\n",
       "      <td>13.0</td>\n",
       "      <td>20</td>\n",
       "    </tr>\n",
       "    <tr>\n",
       "      <th>2</th>\n",
       "      <td>165</td>\n",
       "      <td>12</td>\n",
       "      <td>4.0</td>\n",
       "      <td>93</td>\n",
       "    </tr>\n",
       "    <tr>\n",
       "      <th>3</th>\n",
       "      <td>110</td>\n",
       "      <td>20</td>\n",
       "      <td>NaN</td>\n",
       "      <td>60</td>\n",
       "    </tr>\n",
       "    <tr>\n",
       "      <th>4</th>\n",
       "      <td>140</td>\n",
       "      <td>5</td>\n",
       "      <td>3.0</td>\n",
       "      <td>82</td>\n",
       "    </tr>\n",
       "  </tbody>\n",
       "</table>\n",
       "</div>"
      ],
      "text/plain": [
       "   speed  car_age  experience  risk\n",
       "0    200       15         5.0    85\n",
       "1     90       17        13.0    20\n",
       "2    165       12         4.0    93\n",
       "3    110       20         NaN    60\n",
       "4    140        5         3.0    82"
      ]
     },
     "execution_count": 3,
     "metadata": {},
     "output_type": "execute_result"
    }
   ],
   "source": [
    "df=pd.read_csv(\"/kaggle/input/k88-mjh/Book123.csv\")\n",
    "df.head()"
   ]
  },
  {
   "cell_type": "code",
   "execution_count": 4,
   "id": "e894c966",
   "metadata": {
    "execution": {
     "iopub.execute_input": "2024-08-22T19:55:53.488587Z",
     "iopub.status.busy": "2024-08-22T19:55:53.488158Z",
     "iopub.status.idle": "2024-08-22T19:55:53.496190Z",
     "shell.execute_reply": "2024-08-22T19:55:53.494982Z"
    },
    "papermill": {
     "duration": 0.021553,
     "end_time": "2024-08-22T19:55:53.498918",
     "exception": false,
     "start_time": "2024-08-22T19:55:53.477365",
     "status": "completed"
    },
    "tags": []
   },
   "outputs": [],
   "source": [
    "p_fit=df.experience.median()"
   ]
  },
  {
   "cell_type": "code",
   "execution_count": 5,
   "id": "f4895e79",
   "metadata": {
    "execution": {
     "iopub.execute_input": "2024-08-22T19:55:53.520001Z",
     "iopub.status.busy": "2024-08-22T19:55:53.519525Z",
     "iopub.status.idle": "2024-08-22T19:55:53.527087Z",
     "shell.execute_reply": "2024-08-22T19:55:53.525976Z"
    },
    "papermill": {
     "duration": 0.021008,
     "end_time": "2024-08-22T19:55:53.529501",
     "exception": false,
     "start_time": "2024-08-22T19:55:53.508493",
     "status": "completed"
    },
    "tags": []
   },
   "outputs": [
    {
     "data": {
      "text/plain": [
       "5.0"
      ]
     },
     "execution_count": 5,
     "metadata": {},
     "output_type": "execute_result"
    }
   ],
   "source": [
    "p_fit"
   ]
  },
  {
   "cell_type": "code",
   "execution_count": 6,
   "id": "ed2a4009",
   "metadata": {
    "execution": {
     "iopub.execute_input": "2024-08-22T19:55:53.550605Z",
     "iopub.status.busy": "2024-08-22T19:55:53.550147Z",
     "iopub.status.idle": "2024-08-22T19:55:53.557192Z",
     "shell.execute_reply": "2024-08-22T19:55:53.556076Z"
    },
    "papermill": {
     "duration": 0.020416,
     "end_time": "2024-08-22T19:55:53.559632",
     "exception": false,
     "start_time": "2024-08-22T19:55:53.539216",
     "status": "completed"
    },
    "tags": []
   },
   "outputs": [],
   "source": [
    "df.experience=df.experience.fillna(p_fit)"
   ]
  },
  {
   "cell_type": "code",
   "execution_count": 7,
   "id": "fc7bf210",
   "metadata": {
    "execution": {
     "iopub.execute_input": "2024-08-22T19:55:53.581875Z",
     "iopub.status.busy": "2024-08-22T19:55:53.581415Z",
     "iopub.status.idle": "2024-08-22T19:55:53.590401Z",
     "shell.execute_reply": "2024-08-22T19:55:53.589268Z"
    },
    "papermill": {
     "duration": 0.0228,
     "end_time": "2024-08-22T19:55:53.593249",
     "exception": false,
     "start_time": "2024-08-22T19:55:53.570449",
     "status": "completed"
    },
    "tags": []
   },
   "outputs": [
    {
     "data": {
      "text/plain": [
       "0     5.0\n",
       "1    13.0\n",
       "2     4.0\n",
       "3     5.0\n",
       "4     3.0\n",
       "5     8.0\n",
       "Name: experience, dtype: float64"
      ]
     },
     "execution_count": 7,
     "metadata": {},
     "output_type": "execute_result"
    }
   ],
   "source": [
    "df.experience"
   ]
  },
  {
   "cell_type": "code",
   "execution_count": 8,
   "id": "a4e807be",
   "metadata": {
    "execution": {
     "iopub.execute_input": "2024-08-22T19:55:53.616034Z",
     "iopub.status.busy": "2024-08-22T19:55:53.615540Z",
     "iopub.status.idle": "2024-08-22T19:55:53.629274Z",
     "shell.execute_reply": "2024-08-22T19:55:53.627948Z"
    },
    "papermill": {
     "duration": 0.029101,
     "end_time": "2024-08-22T19:55:53.632164",
     "exception": false,
     "start_time": "2024-08-22T19:55:53.603063",
     "status": "completed"
    },
    "tags": []
   },
   "outputs": [
    {
     "data": {
      "text/html": [
       "<div>\n",
       "<style scoped>\n",
       "    .dataframe tbody tr th:only-of-type {\n",
       "        vertical-align: middle;\n",
       "    }\n",
       "\n",
       "    .dataframe tbody tr th {\n",
       "        vertical-align: top;\n",
       "    }\n",
       "\n",
       "    .dataframe thead th {\n",
       "        text-align: right;\n",
       "    }\n",
       "</style>\n",
       "<table border=\"1\" class=\"dataframe\">\n",
       "  <thead>\n",
       "    <tr style=\"text-align: right;\">\n",
       "      <th></th>\n",
       "      <th>speed</th>\n",
       "      <th>car_age</th>\n",
       "      <th>experience</th>\n",
       "      <th>risk</th>\n",
       "    </tr>\n",
       "  </thead>\n",
       "  <tbody>\n",
       "    <tr>\n",
       "      <th>0</th>\n",
       "      <td>200</td>\n",
       "      <td>15</td>\n",
       "      <td>5.0</td>\n",
       "      <td>85</td>\n",
       "    </tr>\n",
       "    <tr>\n",
       "      <th>1</th>\n",
       "      <td>90</td>\n",
       "      <td>17</td>\n",
       "      <td>13.0</td>\n",
       "      <td>20</td>\n",
       "    </tr>\n",
       "    <tr>\n",
       "      <th>2</th>\n",
       "      <td>165</td>\n",
       "      <td>12</td>\n",
       "      <td>4.0</td>\n",
       "      <td>93</td>\n",
       "    </tr>\n",
       "    <tr>\n",
       "      <th>3</th>\n",
       "      <td>110</td>\n",
       "      <td>20</td>\n",
       "      <td>5.0</td>\n",
       "      <td>60</td>\n",
       "    </tr>\n",
       "    <tr>\n",
       "      <th>4</th>\n",
       "      <td>140</td>\n",
       "      <td>5</td>\n",
       "      <td>3.0</td>\n",
       "      <td>82</td>\n",
       "    </tr>\n",
       "  </tbody>\n",
       "</table>\n",
       "</div>"
      ],
      "text/plain": [
       "   speed  car_age  experience  risk\n",
       "0    200       15         5.0    85\n",
       "1     90       17        13.0    20\n",
       "2    165       12         4.0    93\n",
       "3    110       20         5.0    60\n",
       "4    140        5         3.0    82"
      ]
     },
     "execution_count": 8,
     "metadata": {},
     "output_type": "execute_result"
    }
   ],
   "source": [
    "df.head()"
   ]
  },
  {
   "cell_type": "code",
   "execution_count": 9,
   "id": "11e9ad9e",
   "metadata": {
    "execution": {
     "iopub.execute_input": "2024-08-22T19:55:53.653974Z",
     "iopub.status.busy": "2024-08-22T19:55:53.653501Z",
     "iopub.status.idle": "2024-08-22T19:55:53.664606Z",
     "shell.execute_reply": "2024-08-22T19:55:53.663158Z"
    },
    "papermill": {
     "duration": 0.024974,
     "end_time": "2024-08-22T19:55:53.667269",
     "exception": false,
     "start_time": "2024-08-22T19:55:53.642295",
     "status": "completed"
    },
    "tags": []
   },
   "outputs": [
    {
     "data": {
      "text/html": [
       "<style>#sk-container-id-1 {color: black;background-color: white;}#sk-container-id-1 pre{padding: 0;}#sk-container-id-1 div.sk-toggleable {background-color: white;}#sk-container-id-1 label.sk-toggleable__label {cursor: pointer;display: block;width: 100%;margin-bottom: 0;padding: 0.3em;box-sizing: border-box;text-align: center;}#sk-container-id-1 label.sk-toggleable__label-arrow:before {content: \"▸\";float: left;margin-right: 0.25em;color: #696969;}#sk-container-id-1 label.sk-toggleable__label-arrow:hover:before {color: black;}#sk-container-id-1 div.sk-estimator:hover label.sk-toggleable__label-arrow:before {color: black;}#sk-container-id-1 div.sk-toggleable__content {max-height: 0;max-width: 0;overflow: hidden;text-align: left;background-color: #f0f8ff;}#sk-container-id-1 div.sk-toggleable__content pre {margin: 0.2em;color: black;border-radius: 0.25em;background-color: #f0f8ff;}#sk-container-id-1 input.sk-toggleable__control:checked~div.sk-toggleable__content {max-height: 200px;max-width: 100%;overflow: auto;}#sk-container-id-1 input.sk-toggleable__control:checked~label.sk-toggleable__label-arrow:before {content: \"▾\";}#sk-container-id-1 div.sk-estimator input.sk-toggleable__control:checked~label.sk-toggleable__label {background-color: #d4ebff;}#sk-container-id-1 div.sk-label input.sk-toggleable__control:checked~label.sk-toggleable__label {background-color: #d4ebff;}#sk-container-id-1 input.sk-hidden--visually {border: 0;clip: rect(1px 1px 1px 1px);clip: rect(1px, 1px, 1px, 1px);height: 1px;margin: -1px;overflow: hidden;padding: 0;position: absolute;width: 1px;}#sk-container-id-1 div.sk-estimator {font-family: monospace;background-color: #f0f8ff;border: 1px dotted black;border-radius: 0.25em;box-sizing: border-box;margin-bottom: 0.5em;}#sk-container-id-1 div.sk-estimator:hover {background-color: #d4ebff;}#sk-container-id-1 div.sk-parallel-item::after {content: \"\";width: 100%;border-bottom: 1px solid gray;flex-grow: 1;}#sk-container-id-1 div.sk-label:hover label.sk-toggleable__label {background-color: #d4ebff;}#sk-container-id-1 div.sk-serial::before {content: \"\";position: absolute;border-left: 1px solid gray;box-sizing: border-box;top: 0;bottom: 0;left: 50%;z-index: 0;}#sk-container-id-1 div.sk-serial {display: flex;flex-direction: column;align-items: center;background-color: white;padding-right: 0.2em;padding-left: 0.2em;position: relative;}#sk-container-id-1 div.sk-item {position: relative;z-index: 1;}#sk-container-id-1 div.sk-parallel {display: flex;align-items: stretch;justify-content: center;background-color: white;position: relative;}#sk-container-id-1 div.sk-item::before, #sk-container-id-1 div.sk-parallel-item::before {content: \"\";position: absolute;border-left: 1px solid gray;box-sizing: border-box;top: 0;bottom: 0;left: 50%;z-index: -1;}#sk-container-id-1 div.sk-parallel-item {display: flex;flex-direction: column;z-index: 1;position: relative;background-color: white;}#sk-container-id-1 div.sk-parallel-item:first-child::after {align-self: flex-end;width: 50%;}#sk-container-id-1 div.sk-parallel-item:last-child::after {align-self: flex-start;width: 50%;}#sk-container-id-1 div.sk-parallel-item:only-child::after {width: 0;}#sk-container-id-1 div.sk-dashed-wrapped {border: 1px dashed gray;margin: 0 0.4em 0.5em 0.4em;box-sizing: border-box;padding-bottom: 0.4em;background-color: white;}#sk-container-id-1 div.sk-label label {font-family: monospace;font-weight: bold;display: inline-block;line-height: 1.2em;}#sk-container-id-1 div.sk-label-container {text-align: center;}#sk-container-id-1 div.sk-container {/* jupyter's `normalize.less` sets `[hidden] { display: none; }` but bootstrap.min.css set `[hidden] { display: none !important; }` so we also need the `!important` here to be able to override the default hidden behavior on the sphinx rendered scikit-learn.org. See: https://github.com/scikit-learn/scikit-learn/issues/21755 */display: inline-block !important;position: relative;}#sk-container-id-1 div.sk-text-repr-fallback {display: none;}</style><div id=\"sk-container-id-1\" class=\"sk-top-container\"><div class=\"sk-text-repr-fallback\"><pre>LinearRegression()</pre><b>In a Jupyter environment, please rerun this cell to show the HTML representation or trust the notebook. <br />On GitHub, the HTML representation is unable to render, please try loading this page with nbviewer.org.</b></div><div class=\"sk-container\" hidden><div class=\"sk-item\"><div class=\"sk-estimator sk-toggleable\"><input class=\"sk-toggleable__control sk-hidden--visually\" id=\"sk-estimator-id-1\" type=\"checkbox\" checked><label for=\"sk-estimator-id-1\" class=\"sk-toggleable__label sk-toggleable__label-arrow\">LinearRegression</label><div class=\"sk-toggleable__content\"><pre>LinearRegression()</pre></div></div></div></div></div>"
      ],
      "text/plain": [
       "LinearRegression()"
      ]
     },
     "execution_count": 9,
     "metadata": {},
     "output_type": "execute_result"
    }
   ],
   "source": [
    "reg=linear_model.LinearRegression()\n",
    "reg"
   ]
  },
  {
   "cell_type": "code",
   "execution_count": 10,
   "id": "7ff12220",
   "metadata": {
    "execution": {
     "iopub.execute_input": "2024-08-22T19:55:53.690109Z",
     "iopub.status.busy": "2024-08-22T19:55:53.689638Z",
     "iopub.status.idle": "2024-08-22T19:55:53.727920Z",
     "shell.execute_reply": "2024-08-22T19:55:53.726777Z"
    },
    "papermill": {
     "duration": 0.053104,
     "end_time": "2024-08-22T19:55:53.730682",
     "exception": false,
     "start_time": "2024-08-22T19:55:53.677578",
     "status": "completed"
    },
    "tags": []
   },
   "outputs": [
    {
     "data": {
      "text/html": [
       "<style>#sk-container-id-2 {color: black;background-color: white;}#sk-container-id-2 pre{padding: 0;}#sk-container-id-2 div.sk-toggleable {background-color: white;}#sk-container-id-2 label.sk-toggleable__label {cursor: pointer;display: block;width: 100%;margin-bottom: 0;padding: 0.3em;box-sizing: border-box;text-align: center;}#sk-container-id-2 label.sk-toggleable__label-arrow:before {content: \"▸\";float: left;margin-right: 0.25em;color: #696969;}#sk-container-id-2 label.sk-toggleable__label-arrow:hover:before {color: black;}#sk-container-id-2 div.sk-estimator:hover label.sk-toggleable__label-arrow:before {color: black;}#sk-container-id-2 div.sk-toggleable__content {max-height: 0;max-width: 0;overflow: hidden;text-align: left;background-color: #f0f8ff;}#sk-container-id-2 div.sk-toggleable__content pre {margin: 0.2em;color: black;border-radius: 0.25em;background-color: #f0f8ff;}#sk-container-id-2 input.sk-toggleable__control:checked~div.sk-toggleable__content {max-height: 200px;max-width: 100%;overflow: auto;}#sk-container-id-2 input.sk-toggleable__control:checked~label.sk-toggleable__label-arrow:before {content: \"▾\";}#sk-container-id-2 div.sk-estimator input.sk-toggleable__control:checked~label.sk-toggleable__label {background-color: #d4ebff;}#sk-container-id-2 div.sk-label input.sk-toggleable__control:checked~label.sk-toggleable__label {background-color: #d4ebff;}#sk-container-id-2 input.sk-hidden--visually {border: 0;clip: rect(1px 1px 1px 1px);clip: rect(1px, 1px, 1px, 1px);height: 1px;margin: -1px;overflow: hidden;padding: 0;position: absolute;width: 1px;}#sk-container-id-2 div.sk-estimator {font-family: monospace;background-color: #f0f8ff;border: 1px dotted black;border-radius: 0.25em;box-sizing: border-box;margin-bottom: 0.5em;}#sk-container-id-2 div.sk-estimator:hover {background-color: #d4ebff;}#sk-container-id-2 div.sk-parallel-item::after {content: \"\";width: 100%;border-bottom: 1px solid gray;flex-grow: 1;}#sk-container-id-2 div.sk-label:hover label.sk-toggleable__label {background-color: #d4ebff;}#sk-container-id-2 div.sk-serial::before {content: \"\";position: absolute;border-left: 1px solid gray;box-sizing: border-box;top: 0;bottom: 0;left: 50%;z-index: 0;}#sk-container-id-2 div.sk-serial {display: flex;flex-direction: column;align-items: center;background-color: white;padding-right: 0.2em;padding-left: 0.2em;position: relative;}#sk-container-id-2 div.sk-item {position: relative;z-index: 1;}#sk-container-id-2 div.sk-parallel {display: flex;align-items: stretch;justify-content: center;background-color: white;position: relative;}#sk-container-id-2 div.sk-item::before, #sk-container-id-2 div.sk-parallel-item::before {content: \"\";position: absolute;border-left: 1px solid gray;box-sizing: border-box;top: 0;bottom: 0;left: 50%;z-index: -1;}#sk-container-id-2 div.sk-parallel-item {display: flex;flex-direction: column;z-index: 1;position: relative;background-color: white;}#sk-container-id-2 div.sk-parallel-item:first-child::after {align-self: flex-end;width: 50%;}#sk-container-id-2 div.sk-parallel-item:last-child::after {align-self: flex-start;width: 50%;}#sk-container-id-2 div.sk-parallel-item:only-child::after {width: 0;}#sk-container-id-2 div.sk-dashed-wrapped {border: 1px dashed gray;margin: 0 0.4em 0.5em 0.4em;box-sizing: border-box;padding-bottom: 0.4em;background-color: white;}#sk-container-id-2 div.sk-label label {font-family: monospace;font-weight: bold;display: inline-block;line-height: 1.2em;}#sk-container-id-2 div.sk-label-container {text-align: center;}#sk-container-id-2 div.sk-container {/* jupyter's `normalize.less` sets `[hidden] { display: none; }` but bootstrap.min.css set `[hidden] { display: none !important; }` so we also need the `!important` here to be able to override the default hidden behavior on the sphinx rendered scikit-learn.org. See: https://github.com/scikit-learn/scikit-learn/issues/21755 */display: inline-block !important;position: relative;}#sk-container-id-2 div.sk-text-repr-fallback {display: none;}</style><div id=\"sk-container-id-2\" class=\"sk-top-container\"><div class=\"sk-text-repr-fallback\"><pre>LinearRegression()</pre><b>In a Jupyter environment, please rerun this cell to show the HTML representation or trust the notebook. <br />On GitHub, the HTML representation is unable to render, please try loading this page with nbviewer.org.</b></div><div class=\"sk-container\" hidden><div class=\"sk-item\"><div class=\"sk-estimator sk-toggleable\"><input class=\"sk-toggleable__control sk-hidden--visually\" id=\"sk-estimator-id-2\" type=\"checkbox\" checked><label for=\"sk-estimator-id-2\" class=\"sk-toggleable__label sk-toggleable__label-arrow\">LinearRegression</label><div class=\"sk-toggleable__content\"><pre>LinearRegression()</pre></div></div></div></div></div>"
      ],
      "text/plain": [
       "LinearRegression()"
      ]
     },
     "execution_count": 10,
     "metadata": {},
     "output_type": "execute_result"
    }
   ],
   "source": [
    "reg.fit(df[['speed','car_age','experience']],df.risk)"
   ]
  },
  {
   "cell_type": "code",
   "execution_count": 11,
   "id": "98a088f3",
   "metadata": {
    "execution": {
     "iopub.execute_input": "2024-08-22T19:55:53.753945Z",
     "iopub.status.busy": "2024-08-22T19:55:53.753505Z",
     "iopub.status.idle": "2024-08-22T19:55:53.764245Z",
     "shell.execute_reply": "2024-08-22T19:55:53.762994Z"
    },
    "papermill": {
     "duration": 0.025389,
     "end_time": "2024-08-22T19:55:53.767008",
     "exception": false,
     "start_time": "2024-08-22T19:55:53.741619",
     "status": "completed"
    },
    "tags": []
   },
   "outputs": [
    {
     "name": "stderr",
     "output_type": "stream",
     "text": [
      "/opt/conda/lib/python3.10/site-packages/sklearn/base.py:439: UserWarning: X does not have valid feature names, but LinearRegression was fitted with feature names\n",
      "  warnings.warn(\n"
     ]
    },
    {
     "data": {
      "text/plain": [
       "array([71.37146872])"
      ]
     },
     "execution_count": 11,
     "metadata": {},
     "output_type": "execute_result"
    }
   ],
   "source": [
    "y= reg.predict([[160,10,5]])\n",
    "y"
   ]
  },
  {
   "cell_type": "code",
   "execution_count": 12,
   "id": "63e8e099",
   "metadata": {
    "execution": {
     "iopub.execute_input": "2024-08-22T19:55:53.791530Z",
     "iopub.status.busy": "2024-08-22T19:55:53.790425Z",
     "iopub.status.idle": "2024-08-22T19:55:53.799127Z",
     "shell.execute_reply": "2024-08-22T19:55:53.797837Z"
    },
    "papermill": {
     "duration": 0.024193,
     "end_time": "2024-08-22T19:55:53.801992",
     "exception": false,
     "start_time": "2024-08-22T19:55:53.777799",
     "status": "completed"
    },
    "tags": []
   },
   "outputs": [
    {
     "data": {
      "text/plain": [
       "array([ 0.33059217,  1.61053246, -6.20772074])"
      ]
     },
     "execution_count": 12,
     "metadata": {},
     "output_type": "execute_result"
    }
   ],
   "source": [
    "m1=reg.coef_\n",
    "m1"
   ]
  },
  {
   "cell_type": "code",
   "execution_count": 13,
   "id": "80b56f9d",
   "metadata": {
    "execution": {
     "iopub.execute_input": "2024-08-22T19:55:53.825753Z",
     "iopub.status.busy": "2024-08-22T19:55:53.825323Z",
     "iopub.status.idle": "2024-08-22T19:55:53.832781Z",
     "shell.execute_reply": "2024-08-22T19:55:53.831638Z"
    },
    "papermill": {
     "duration": 0.022599,
     "end_time": "2024-08-22T19:55:53.835478",
     "exception": false,
     "start_time": "2024-08-22T19:55:53.812879",
     "status": "completed"
    },
    "tags": []
   },
   "outputs": [
    {
     "data": {
      "text/plain": [
       "33.41000091043588"
      ]
     },
     "execution_count": 13,
     "metadata": {},
     "output_type": "execute_result"
    }
   ],
   "source": [
    "c1=reg.intercept_\n",
    "c1"
   ]
  },
  {
   "cell_type": "code",
   "execution_count": 14,
   "id": "7487616f",
   "metadata": {
    "execution": {
     "iopub.execute_input": "2024-08-22T19:55:53.860105Z",
     "iopub.status.busy": "2024-08-22T19:55:53.859602Z",
     "iopub.status.idle": "2024-08-22T19:55:53.867479Z",
     "shell.execute_reply": "2024-08-22T19:55:53.866305Z"
    },
    "papermill": {
     "duration": 0.023196,
     "end_time": "2024-08-22T19:55:53.869960",
     "exception": false,
     "start_time": "2024-08-22T19:55:53.846764",
     "status": "completed"
    },
    "tags": []
   },
   "outputs": [
    {
     "data": {
      "text/plain": [
       "71.37146901043589"
      ]
     },
     "execution_count": 14,
     "metadata": {},
     "output_type": "execute_result"
    }
   ],
   "source": [
    " 0.33059217*160+1.61053246*10+-6.20772074*5+33.41000091043588"
   ]
  },
  {
   "cell_type": "code",
   "execution_count": 15,
   "id": "1949f8ef",
   "metadata": {
    "execution": {
     "iopub.execute_input": "2024-08-22T19:55:53.894493Z",
     "iopub.status.busy": "2024-08-22T19:55:53.894027Z",
     "iopub.status.idle": "2024-08-22T19:55:53.899854Z",
     "shell.execute_reply": "2024-08-22T19:55:53.898702Z"
    },
    "papermill": {
     "duration": 0.021279,
     "end_time": "2024-08-22T19:55:53.902427",
     "exception": false,
     "start_time": "2024-08-22T19:55:53.881148",
     "status": "completed"
    },
    "tags": []
   },
   "outputs": [],
   "source": [
    "from matplotlib import pyplot as plt"
   ]
  },
  {
   "cell_type": "code",
   "execution_count": 16,
   "id": "5767c511",
   "metadata": {
    "execution": {
     "iopub.execute_input": "2024-08-22T19:55:53.926581Z",
     "iopub.status.busy": "2024-08-22T19:55:53.926128Z",
     "iopub.status.idle": "2024-08-22T19:55:54.333620Z",
     "shell.execute_reply": "2024-08-22T19:55:54.332350Z"
    },
    "papermill": {
     "duration": 0.422619,
     "end_time": "2024-08-22T19:55:54.336192",
     "exception": false,
     "start_time": "2024-08-22T19:55:53.913573",
     "status": "completed"
    },
    "tags": []
   },
   "outputs": [
    {
     "data": {
      "text/plain": [
       "Text(0.5, 1.0, 'Linear Regression')"
      ]
     },
     "execution_count": 16,
     "metadata": {},
     "output_type": "execute_result"
    },
    {
     "data": {
      "image/png": "[encoded data removed]",
      "text/plain": [
       "<Figure size 640x480 with 1 Axes>"
      ]
     },
     "metadata": {},
     "output_type": "display_data"
    }
   ],
   "source": [
    "\n",
    "plt.scatter(df['speed'],df['risk'],color='blue')\n",
    "plt.scatter(df['car_age'],df['risk'],color='blue')\n",
    "plt.scatter(df['experience'],df['risk'],color='blue')\n",
    "\n",
    "plt.xlabel(\"speed ,car_age, experience\")\n",
    "plt.ylabel(\"risk\")\n",
    "plt.title(\"Linear Regression\")"
   ]
  },
  {
   "cell_type": "code",
   "execution_count": 17,
   "id": "77383a4a",
   "metadata": {
    "execution": {
     "iopub.execute_input": "2024-08-22T19:55:54.362847Z",
     "iopub.status.busy": "2024-08-22T19:55:54.361820Z",
     "iopub.status.idle": "2024-08-22T19:55:54.371022Z",
     "shell.execute_reply": "2024-08-22T19:55:54.369767Z"
    },
    "papermill": {
     "duration": 0.025131,
     "end_time": "2024-08-22T19:55:54.373787",
     "exception": false,
     "start_time": "2024-08-22T19:55:54.348656",
     "status": "completed"
    },
    "tags": []
   },
   "outputs": [
    {
     "data": {
      "text/plain": [
       "0    85\n",
       "1    20\n",
       "2    93\n",
       "3    60\n",
       "4    82\n",
       "5    10\n",
       "Name: risk, dtype: int64"
      ]
     },
     "execution_count": 17,
     "metadata": {},
     "output_type": "execute_result"
    }
   ],
   "source": [
    "z=df['risk']\n",
    "z"
   ]
  },
  {
   "cell_type": "code",
   "execution_count": 18,
   "id": "76c6c2aa",
   "metadata": {
    "execution": {
     "iopub.execute_input": "2024-08-22T19:55:54.399943Z",
     "iopub.status.busy": "2024-08-22T19:55:54.399470Z",
     "iopub.status.idle": "2024-08-22T19:55:54.408396Z",
     "shell.execute_reply": "2024-08-22T19:55:54.406827Z"
    },
    "papermill": {
     "duration": 0.025231,
     "end_time": "2024-08-22T19:55:54.411152",
     "exception": false,
     "start_time": "2024-08-22T19:55:54.385921",
     "status": "completed"
    },
    "tags": []
   },
   "outputs": [
    {
     "data": {
      "text/plain": [
       "58.333333333333336"
      ]
     },
     "execution_count": 18,
     "metadata": {},
     "output_type": "execute_result"
    }
   ],
   "source": [
    "z.mean()"
   ]
  },
  {
   "cell_type": "code",
   "execution_count": 19,
   "id": "d4ed6311",
   "metadata": {
    "execution": {
     "iopub.execute_input": "2024-08-22T19:55:54.437439Z",
     "iopub.status.busy": "2024-08-22T19:55:54.436974Z",
     "iopub.status.idle": "2024-08-22T19:55:54.446551Z",
     "shell.execute_reply": "2024-08-22T19:55:54.445331Z"
    },
    "papermill": {
     "duration": 0.025586,
     "end_time": "2024-08-22T19:55:54.448992",
     "exception": false,
     "start_time": "2024-08-22T19:55:54.423406",
     "status": "completed"
    },
    "tags": []
   },
   "outputs": [
    {
     "data": {
      "text/plain": [
       "0    200\n",
       "1     90\n",
       "2    165\n",
       "3    110\n",
       "4    140\n",
       "5    115\n",
       "Name: speed, dtype: int64"
      ]
     },
     "execution_count": 19,
     "metadata": {},
     "output_type": "execute_result"
    }
   ],
   "source": [
    "p=df['speed']\n",
    "p"
   ]
  },
  {
   "cell_type": "code",
   "execution_count": 20,
   "id": "300fe7a7",
   "metadata": {
    "execution": {
     "iopub.execute_input": "2024-08-22T19:55:54.475753Z",
     "iopub.status.busy": "2024-08-22T19:55:54.475299Z",
     "iopub.status.idle": "2024-08-22T19:55:54.483800Z",
     "shell.execute_reply": "2024-08-22T19:55:54.482387Z"
    },
    "papermill": {
     "duration": 0.025094,
     "end_time": "2024-08-22T19:55:54.486816",
     "exception": false,
     "start_time": "2024-08-22T19:55:54.461722",
     "status": "completed"
    },
    "tags": []
   },
   "outputs": [
    {
     "data": {
      "text/plain": [
       "136.66666666666666"
      ]
     },
     "execution_count": 20,
     "metadata": {},
     "output_type": "execute_result"
    }
   ],
   "source": [
    "p.mean()\n"
   ]
  },
  {
   "cell_type": "code",
   "execution_count": 21,
   "id": "ffb361e7",
   "metadata": {
    "execution": {
     "iopub.execute_input": "2024-08-22T19:55:54.514741Z",
     "iopub.status.busy": "2024-08-22T19:55:54.514275Z",
     "iopub.status.idle": "2024-08-22T19:55:54.523169Z",
     "shell.execute_reply": "2024-08-22T19:55:54.521956Z"
    },
    "papermill": {
     "duration": 0.026402,
     "end_time": "2024-08-22T19:55:54.526022",
     "exception": false,
     "start_time": "2024-08-22T19:55:54.499620",
     "status": "completed"
    },
    "tags": []
   },
   "outputs": [
    {
     "data": {
      "text/plain": [
       "0    15\n",
       "1    17\n",
       "2    12\n",
       "3    20\n",
       "4     5\n",
       "5     2\n",
       "Name: car_age, dtype: int64"
      ]
     },
     "execution_count": 21,
     "metadata": {},
     "output_type": "execute_result"
    }
   ],
   "source": [
    "q=df['car_age']\n",
    "q"
   ]
  },
  {
   "cell_type": "code",
   "execution_count": 22,
   "id": "bd3d0136",
   "metadata": {
    "execution": {
     "iopub.execute_input": "2024-08-22T19:55:54.554752Z",
     "iopub.status.busy": "2024-08-22T19:55:54.554280Z",
     "iopub.status.idle": "2024-08-22T19:55:54.562152Z",
     "shell.execute_reply": "2024-08-22T19:55:54.561086Z"
    },
    "papermill": {
     "duration": 0.024951,
     "end_time": "2024-08-22T19:55:54.564591",
     "exception": false,
     "start_time": "2024-08-22T19:55:54.539640",
     "status": "completed"
    },
    "tags": []
   },
   "outputs": [
    {
     "data": {
      "text/plain": [
       "11.833333333333334"
      ]
     },
     "execution_count": 22,
     "metadata": {},
     "output_type": "execute_result"
    }
   ],
   "source": [
    "q.mean()"
   ]
  },
  {
   "cell_type": "code",
   "execution_count": 23,
   "id": "12f26cff",
   "metadata": {
    "execution": {
     "iopub.execute_input": "2024-08-22T19:55:54.592487Z",
     "iopub.status.busy": "2024-08-22T19:55:54.592032Z",
     "iopub.status.idle": "2024-08-22T19:55:54.600723Z",
     "shell.execute_reply": "2024-08-22T19:55:54.599558Z"
    },
    "papermill": {
     "duration": 0.025177,
     "end_time": "2024-08-22T19:55:54.603130",
     "exception": false,
     "start_time": "2024-08-22T19:55:54.577953",
     "status": "completed"
    },
    "tags": []
   },
   "outputs": [
    {
     "data": {
      "text/plain": [
       "0     5.0\n",
       "1    13.0\n",
       "2     4.0\n",
       "3     5.0\n",
       "4     3.0\n",
       "5     8.0\n",
       "Name: experience, dtype: float64"
      ]
     },
     "execution_count": 23,
     "metadata": {},
     "output_type": "execute_result"
    }
   ],
   "source": [
    "r=df['experience']\n",
    "r"
   ]
  },
  {
   "cell_type": "code",
   "execution_count": 24,
   "id": "b5c6f0ea",
   "metadata": {
    "execution": {
     "iopub.execute_input": "2024-08-22T19:55:54.632087Z",
     "iopub.status.busy": "2024-08-22T19:55:54.631625Z",
     "iopub.status.idle": "2024-08-22T19:55:54.639442Z",
     "shell.execute_reply": "2024-08-22T19:55:54.638260Z"
    },
    "papermill": {
     "duration": 0.024657,
     "end_time": "2024-08-22T19:55:54.641982",
     "exception": false,
     "start_time": "2024-08-22T19:55:54.617325",
     "status": "completed"
    },
    "tags": []
   },
   "outputs": [
    {
     "data": {
      "text/plain": [
       "6.333333333333333"
      ]
     },
     "execution_count": 24,
     "metadata": {},
     "output_type": "execute_result"
    }
   ],
   "source": [
    "r.mean()"
   ]
  },
  {
   "cell_type": "code",
   "execution_count": 25,
   "id": "36c95f8b",
   "metadata": {
    "execution": {
     "iopub.execute_input": "2024-08-22T19:55:54.670198Z",
     "iopub.status.busy": "2024-08-22T19:55:54.669704Z",
     "iopub.status.idle": "2024-08-22T19:55:54.680843Z",
     "shell.execute_reply": "2024-08-22T19:55:54.679686Z"
    },
    "papermill": {
     "duration": 0.028401,
     "end_time": "2024-08-22T19:55:54.683383",
     "exception": false,
     "start_time": "2024-08-22T19:55:54.654982",
     "status": "completed"
    },
    "tags": []
   },
   "outputs": [
    {
     "data": {
      "text/html": [
       "<style>#sk-container-id-3 {color: black;background-color: white;}#sk-container-id-3 pre{padding: 0;}#sk-container-id-3 div.sk-toggleable {background-color: white;}#sk-container-id-3 label.sk-toggleable__label {cursor: pointer;display: block;width: 100%;margin-bottom: 0;padding: 0.3em;box-sizing: border-box;text-align: center;}#sk-container-id-3 label.sk-toggleable__label-arrow:before {content: \"▸\";float: left;margin-right: 0.25em;color: #696969;}#sk-container-id-3 label.sk-toggleable__label-arrow:hover:before {color: black;}#sk-container-id-3 div.sk-estimator:hover label.sk-toggleable__label-arrow:before {color: black;}#sk-container-id-3 div.sk-toggleable__content {max-height: 0;max-width: 0;overflow: hidden;text-align: left;background-color: #f0f8ff;}#sk-container-id-3 div.sk-toggleable__content pre {margin: 0.2em;color: black;border-radius: 0.25em;background-color: #f0f8ff;}#sk-container-id-3 input.sk-toggleable__control:checked~div.sk-toggleable__content {max-height: 200px;max-width: 100%;overflow: auto;}#sk-container-id-3 input.sk-toggleable__control:checked~label.sk-toggleable__label-arrow:before {content: \"▾\";}#sk-container-id-3 div.sk-estimator input.sk-toggleable__control:checked~label.sk-toggleable__label {background-color: #d4ebff;}#sk-container-id-3 div.sk-label input.sk-toggleable__control:checked~label.sk-toggleable__label {background-color: #d4ebff;}#sk-container-id-3 input.sk-hidden--visually {border: 0;clip: rect(1px 1px 1px 1px);clip: rect(1px, 1px, 1px, 1px);height: 1px;margin: -1px;overflow: hidden;padding: 0;position: absolute;width: 1px;}#sk-container-id-3 div.sk-estimator {font-family: monospace;background-color: #f0f8ff;border: 1px dotted black;border-radius: 0.25em;box-sizing: border-box;margin-bottom: 0.5em;}#sk-container-id-3 div.sk-estimator:hover {background-color: #d4ebff;}#sk-container-id-3 div.sk-parallel-item::after {content: \"\";width: 100%;border-bottom: 1px solid gray;flex-grow: 1;}#sk-container-id-3 div.sk-label:hover label.sk-toggleable__label {background-color: #d4ebff;}#sk-container-id-3 div.sk-serial::before {content: \"\";position: absolute;border-left: 1px solid gray;box-sizing: border-box;top: 0;bottom: 0;left: 50%;z-index: 0;}#sk-container-id-3 div.sk-serial {display: flex;flex-direction: column;align-items: center;background-color: white;padding-right: 0.2em;padding-left: 0.2em;position: relative;}#sk-container-id-3 div.sk-item {position: relative;z-index: 1;}#sk-container-id-3 div.sk-parallel {display: flex;align-items: stretch;justify-content: center;background-color: white;position: relative;}#sk-container-id-3 div.sk-item::before, #sk-container-id-3 div.sk-parallel-item::before {content: \"\";position: absolute;border-left: 1px solid gray;box-sizing: border-box;top: 0;bottom: 0;left: 50%;z-index: -1;}#sk-container-id-3 div.sk-parallel-item {display: flex;flex-direction: column;z-index: 1;position: relative;background-color: white;}#sk-container-id-3 div.sk-parallel-item:first-child::after {align-self: flex-end;width: 50%;}#sk-container-id-3 div.sk-parallel-item:last-child::after {align-self: flex-start;width: 50%;}#sk-container-id-3 div.sk-parallel-item:only-child::after {width: 0;}#sk-container-id-3 div.sk-dashed-wrapped {border: 1px dashed gray;margin: 0 0.4em 0.5em 0.4em;box-sizing: border-box;padding-bottom: 0.4em;background-color: white;}#sk-container-id-3 div.sk-label label {font-family: monospace;font-weight: bold;display: inline-block;line-height: 1.2em;}#sk-container-id-3 div.sk-label-container {text-align: center;}#sk-container-id-3 div.sk-container {/* jupyter's `normalize.less` sets `[hidden] { display: none; }` but bootstrap.min.css set `[hidden] { display: none !important; }` so we also need the `!important` here to be able to override the default hidden behavior on the sphinx rendered scikit-learn.org. See: https://github.com/scikit-learn/scikit-learn/issues/21755 */display: inline-block !important;position: relative;}#sk-container-id-3 div.sk-text-repr-fallback {display: none;}</style><div id=\"sk-container-id-3\" class=\"sk-top-container\"><div class=\"sk-text-repr-fallback\"><pre>LinearRegression()</pre><b>In a Jupyter environment, please rerun this cell to show the HTML representation or trust the notebook. <br />On GitHub, the HTML representation is unable to render, please try loading this page with nbviewer.org.</b></div><div class=\"sk-container\" hidden><div class=\"sk-item\"><div class=\"sk-estimator sk-toggleable\"><input class=\"sk-toggleable__control sk-hidden--visually\" id=\"sk-estimator-id-3\" type=\"checkbox\" checked><label for=\"sk-estimator-id-3\" class=\"sk-toggleable__label sk-toggleable__label-arrow\">LinearRegression</label><div class=\"sk-toggleable__content\"><pre>LinearRegression()</pre></div></div></div></div></div>"
      ],
      "text/plain": [
       "LinearRegression()"
      ]
     },
     "execution_count": 25,
     "metadata": {},
     "output_type": "execute_result"
    }
   ],
   "source": [
    "x=[[160,10,5]]\n",
    "\n",
    "reg.fit(x,y)"
   ]
  },
  {
   "cell_type": "code",
   "execution_count": 26,
   "id": "4c304db2",
   "metadata": {
    "execution": {
     "iopub.execute_input": "2024-08-22T19:55:54.712567Z",
     "iopub.status.busy": "2024-08-22T19:55:54.711530Z",
     "iopub.status.idle": "2024-08-22T19:55:55.077597Z",
     "shell.execute_reply": "2024-08-22T19:55:55.076491Z"
    },
    "papermill": {
     "duration": 0.383206,
     "end_time": "2024-08-22T19:55:55.080145",
     "exception": false,
     "start_time": "2024-08-22T19:55:54.696939",
     "status": "completed"
    },
    "tags": []
   },
   "outputs": [
    {
     "data": {
      "text/plain": [
       "Text(0.5, 1.0, 'Linear Regression')"
      ]
     },
     "execution_count": 26,
     "metadata": {},
     "output_type": "execute_result"
    },
    {
     "data": {
      "image/png": "[encoded data removed]",
      "text/plain": [
       "<Figure size 640x480 with 1 Axes>"
      ]
     },
     "metadata": {},
     "output_type": "display_data"
    }
   ],
   "source": [
    "plt.scatter(p.mean(),z.mean(),color='red')\n",
    "plt.scatter(q.mean(),z.mean(),color='green')\n",
    "plt.scatter(r.mean(),z.mean(),color='yellow')\n",
    "plt.scatter(df['speed'],df['risk'],color='blue')\n",
    "plt.scatter(df['car_age'],df['risk'],color='blue')\n",
    "plt.scatter(df['experience'],df['risk'],color='blue')\n",
    "plt.xlabel(\"speed ,car_age, experience\")\n",
    "plt.ylabel(\"risk\")\n",
    "plt.title(\"Linear Regression\")"
   ]
  },
  {
   "cell_type": "code",
   "execution_count": null,
   "id": "ac9b8f0a",
   "metadata": {
    "papermill": {
     "duration": 0.014076,
     "end_time": "2024-08-22T19:55:55.108090",
     "exception": false,
     "start_time": "2024-08-22T19:55:55.094014",
     "status": "completed"
    },
    "tags": []
   },
   "outputs": [],
   "source": []
  }
 ],
 "metadata": {
  "kaggle": {
   "accelerator": "none",
   "dataSources": [
    {
     "datasetId": 5579250,
     "sourceId": 9225101,
     "sourceType": "datasetVersion"
    },
    {
     "datasetId": 5579253,
     "sourceId": 9225105,
     "sourceType": "datasetVersion"
    }
   ],
   "dockerImageVersionId": 30761,
   "isGpuEnabled": false,
   "isInternetEnabled": false,
   "language": "python",
   "sourceType": "notebook"
  },
  "kernelspec": {
   "display_name": "Python 3",
   "language": "python",
   "name": "python3"
  },
  "language_info": {
   "codemirror_mode": {
    "name": "ipython",
    "version": 3
   },
   "file_extension": ".py",
   "mimetype": "text/x-python",
   "name": "python",
   "nbconvert_exporter": "python",
   "pygments_lexer": "ipython3",
   "version": "3.10.14"
  },
  "papermill": {
   "default_parameters": {},
   "duration": 7.712884,
   "end_time": "2024-08-22T19:55:55.743699",
   "environment_variables": {},
   "exception": null,
   "input_path": "__notebook__.ipynb",
   "output_path": "__notebook__.ipynb",
   "parameters": {},
   "start_time": "2024-08-22T19:55:48.030815",
   "version": "2.6.0"
  }
 },
 "nbformat": 4,
 "nbformat_minor": 5
}
